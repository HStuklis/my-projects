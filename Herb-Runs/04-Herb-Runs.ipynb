{
 "cells": [
  {
   "cell_type": "markdown",
   "metadata": {},
   "source": [
    "# Modelling herb runs in Old School Runescape\n",
    "\n",
    "## 04-Raw data & exploratory data analysis\n",
    "All of the following data anlaysis will take place using Python in .ipynb (Interactive Python Notebook) format using JupyterLab. Firstly loading all the necessary modules and some base settings."
   ]
  },
  {
   "cell_type": "code",
   "execution_count": 1,
   "metadata": {},
   "outputs": [],
   "source": [
    "import numpy as np\n",
    "import pandas as pd\n",
    "import matplotlib.pyplot as plt\n",
    "%matplotlib inline\n",
    "import seaborn as sns"
   ]
  },
  {
   "cell_type": "code",
   "execution_count": 2,
   "metadata": {},
   "outputs": [],
   "source": [
    "plt.rcParams['figure.figsize'] = (21.0, 13.0)\n",
    "plt.rcParams['font.size'] = 18.0\n",
    "sns.set_style('whitegrid')"
   ]
  },
  {
   "cell_type": "markdown",
   "metadata": {},
   "source": [
    "Then we can import the herb run data recorded in data.csv into a pandas dataframe using read_csv."
   ]
  },
  {
   "cell_type": "code",
   "execution_count": 3,
   "metadata": {},
   "outputs": [
    {
     "data": {
      "text/html": [
       "<div>\n",
       "<style scoped>\n",
       "    .dataframe tbody tr th:only-of-type {\n",
       "        vertical-align: middle;\n",
       "    }\n",
       "\n",
       "    .dataframe tbody tr th {\n",
       "        vertical-align: top;\n",
       "    }\n",
       "\n",
       "    .dataframe thead th {\n",
       "        text-align: right;\n",
       "    }\n",
       "</style>\n",
       "<table border=\"1\" class=\"dataframe\">\n",
       "  <thead>\n",
       "    <tr style=\"text-align: right;\">\n",
       "      <th></th>\n",
       "      <th>Farming Guild</th>\n",
       "      <th>Port Phasmatys</th>\n",
       "      <th>Weiss</th>\n",
       "      <th>Catherby</th>\n",
       "      <th>Troll Stronghold</th>\n",
       "      <th>Hosidius</th>\n",
       "      <th>Ardougne</th>\n",
       "      <th>Falador</th>\n",
       "    </tr>\n",
       "  </thead>\n",
       "  <tbody>\n",
       "    <tr>\n",
       "      <th>0</th>\n",
       "      <td>9</td>\n",
       "      <td>7</td>\n",
       "      <td>7</td>\n",
       "      <td>10.0</td>\n",
       "      <td>7</td>\n",
       "      <td>7</td>\n",
       "      <td>8.0</td>\n",
       "      <td>12.0</td>\n",
       "    </tr>\n",
       "    <tr>\n",
       "      <th>1</th>\n",
       "      <td>9</td>\n",
       "      <td>8</td>\n",
       "      <td>11</td>\n",
       "      <td>13.0</td>\n",
       "      <td>9</td>\n",
       "      <td>9</td>\n",
       "      <td>8.0</td>\n",
       "      <td>7.0</td>\n",
       "    </tr>\n",
       "    <tr>\n",
       "      <th>2</th>\n",
       "      <td>9</td>\n",
       "      <td>8</td>\n",
       "      <td>9</td>\n",
       "      <td>9.0</td>\n",
       "      <td>10</td>\n",
       "      <td>7</td>\n",
       "      <td>13.0</td>\n",
       "      <td>8.0</td>\n",
       "    </tr>\n",
       "    <tr>\n",
       "      <th>3</th>\n",
       "      <td>10</td>\n",
       "      <td>6</td>\n",
       "      <td>9</td>\n",
       "      <td>10.0</td>\n",
       "      <td>11</td>\n",
       "      <td>16</td>\n",
       "      <td>NaN</td>\n",
       "      <td>8.0</td>\n",
       "    </tr>\n",
       "    <tr>\n",
       "      <th>4</th>\n",
       "      <td>13</td>\n",
       "      <td>7</td>\n",
       "      <td>6</td>\n",
       "      <td>12.0</td>\n",
       "      <td>7</td>\n",
       "      <td>7</td>\n",
       "      <td>9.0</td>\n",
       "      <td>8.0</td>\n",
       "    </tr>\n",
       "    <tr>\n",
       "      <th>5</th>\n",
       "      <td>9</td>\n",
       "      <td>9</td>\n",
       "      <td>8</td>\n",
       "      <td>8.0</td>\n",
       "      <td>7</td>\n",
       "      <td>12</td>\n",
       "      <td>9.0</td>\n",
       "      <td>9.0</td>\n",
       "    </tr>\n",
       "    <tr>\n",
       "      <th>6</th>\n",
       "      <td>7</td>\n",
       "      <td>10</td>\n",
       "      <td>10</td>\n",
       "      <td>11.0</td>\n",
       "      <td>8</td>\n",
       "      <td>9</td>\n",
       "      <td>11.0</td>\n",
       "      <td>9.0</td>\n",
       "    </tr>\n",
       "    <tr>\n",
       "      <th>7</th>\n",
       "      <td>9</td>\n",
       "      <td>6</td>\n",
       "      <td>10</td>\n",
       "      <td>10.0</td>\n",
       "      <td>8</td>\n",
       "      <td>9</td>\n",
       "      <td>12.0</td>\n",
       "      <td>10.0</td>\n",
       "    </tr>\n",
       "    <tr>\n",
       "      <th>8</th>\n",
       "      <td>7</td>\n",
       "      <td>6</td>\n",
       "      <td>7</td>\n",
       "      <td>9.0</td>\n",
       "      <td>10</td>\n",
       "      <td>9</td>\n",
       "      <td>NaN</td>\n",
       "      <td>NaN</td>\n",
       "    </tr>\n",
       "    <tr>\n",
       "      <th>9</th>\n",
       "      <td>7</td>\n",
       "      <td>8</td>\n",
       "      <td>9</td>\n",
       "      <td>14.0</td>\n",
       "      <td>6</td>\n",
       "      <td>10</td>\n",
       "      <td>8.0</td>\n",
       "      <td>8.0</td>\n",
       "    </tr>\n",
       "    <tr>\n",
       "      <th>10</th>\n",
       "      <td>13</td>\n",
       "      <td>10</td>\n",
       "      <td>11</td>\n",
       "      <td>6.0</td>\n",
       "      <td>8</td>\n",
       "      <td>9</td>\n",
       "      <td>8.0</td>\n",
       "      <td>8.0</td>\n",
       "    </tr>\n",
       "    <tr>\n",
       "      <th>11</th>\n",
       "      <td>8</td>\n",
       "      <td>7</td>\n",
       "      <td>9</td>\n",
       "      <td>8.0</td>\n",
       "      <td>14</td>\n",
       "      <td>8</td>\n",
       "      <td>6.0</td>\n",
       "      <td>9.0</td>\n",
       "    </tr>\n",
       "    <tr>\n",
       "      <th>12</th>\n",
       "      <td>9</td>\n",
       "      <td>10</td>\n",
       "      <td>8</td>\n",
       "      <td>13.0</td>\n",
       "      <td>6</td>\n",
       "      <td>7</td>\n",
       "      <td>7.0</td>\n",
       "      <td>8.0</td>\n",
       "    </tr>\n",
       "    <tr>\n",
       "      <th>13</th>\n",
       "      <td>8</td>\n",
       "      <td>9</td>\n",
       "      <td>8</td>\n",
       "      <td>NaN</td>\n",
       "      <td>8</td>\n",
       "      <td>6</td>\n",
       "      <td>8.0</td>\n",
       "      <td>9.0</td>\n",
       "    </tr>\n",
       "    <tr>\n",
       "      <th>14</th>\n",
       "      <td>9</td>\n",
       "      <td>8</td>\n",
       "      <td>6</td>\n",
       "      <td>10.0</td>\n",
       "      <td>14</td>\n",
       "      <td>8</td>\n",
       "      <td>10.0</td>\n",
       "      <td>9.0</td>\n",
       "    </tr>\n",
       "    <tr>\n",
       "      <th>15</th>\n",
       "      <td>11</td>\n",
       "      <td>7</td>\n",
       "      <td>9</td>\n",
       "      <td>14.0</td>\n",
       "      <td>10</td>\n",
       "      <td>8</td>\n",
       "      <td>7.0</td>\n",
       "      <td>8.0</td>\n",
       "    </tr>\n",
       "    <tr>\n",
       "      <th>16</th>\n",
       "      <td>9</td>\n",
       "      <td>6</td>\n",
       "      <td>8</td>\n",
       "      <td>7.0</td>\n",
       "      <td>9</td>\n",
       "      <td>9</td>\n",
       "      <td>9.0</td>\n",
       "      <td>11.0</td>\n",
       "    </tr>\n",
       "  </tbody>\n",
       "</table>\n",
       "</div>"
      ],
      "text/plain": [
       "    Farming Guild  Port Phasmatys  Weiss  Catherby  Troll Stronghold  \\\n",
       "0               9               7      7      10.0                 7   \n",
       "1               9               8     11      13.0                 9   \n",
       "2               9               8      9       9.0                10   \n",
       "3              10               6      9      10.0                11   \n",
       "4              13               7      6      12.0                 7   \n",
       "5               9               9      8       8.0                 7   \n",
       "6               7              10     10      11.0                 8   \n",
       "7               9               6     10      10.0                 8   \n",
       "8               7               6      7       9.0                10   \n",
       "9               7               8      9      14.0                 6   \n",
       "10             13              10     11       6.0                 8   \n",
       "11              8               7      9       8.0                14   \n",
       "12              9              10      8      13.0                 6   \n",
       "13              8               9      8       NaN                 8   \n",
       "14              9               8      6      10.0                14   \n",
       "15             11               7      9      14.0                10   \n",
       "16              9               6      8       7.0                 9   \n",
       "\n",
       "    Hosidius  Ardougne  Falador  \n",
       "0          7       8.0     12.0  \n",
       "1          9       8.0      7.0  \n",
       "2          7      13.0      8.0  \n",
       "3         16       NaN      8.0  \n",
       "4          7       9.0      8.0  \n",
       "5         12       9.0      9.0  \n",
       "6          9      11.0      9.0  \n",
       "7          9      12.0     10.0  \n",
       "8          9       NaN      NaN  \n",
       "9         10       8.0      8.0  \n",
       "10         9       8.0      8.0  \n",
       "11         8       6.0      9.0  \n",
       "12         7       7.0      8.0  \n",
       "13         6       8.0      9.0  \n",
       "14         8      10.0      9.0  \n",
       "15         8       7.0      8.0  \n",
       "16         9       9.0     11.0  "
      ]
     },
     "execution_count": 3,
     "metadata": {},
     "output_type": "execute_result"
    }
   ],
   "source": [
    "df_herb = pd.read_csv('./data.csv')\n",
    "df_herb"
   ]
  },
  {
   "cell_type": "markdown",
   "metadata": {},
   "source": [
    "We can see that there are some NaN (not a number or empty) values in the dataset. These are due to the herb patches dying from disease and thus, did not result in any gathered data on a herb run. It looks as if the columns with NaN values present are stored in a different datatype, we can check this and for the sake of cohesion, convert all columns into the same datatype."
   ]
  },
  {
   "cell_type": "code",
   "execution_count": 4,
   "metadata": {},
   "outputs": [
    {
     "data": {
      "text/plain": [
       "Farming Guild         int64\n",
       "Port Phasmatys        int64\n",
       "Weiss                 int64\n",
       "Catherby            float64\n",
       "Troll Stronghold      int64\n",
       "Hosidius              int64\n",
       "Ardougne            float64\n",
       "Falador             float64\n",
       "dtype: object"
      ]
     },
     "execution_count": 4,
     "metadata": {},
     "output_type": "execute_result"
    }
   ],
   "source": [
    "df_herb.dtypes"
   ]
  },
  {
   "cell_type": "code",
   "execution_count": 5,
   "metadata": {},
   "outputs": [
    {
     "data": {
      "text/plain": [
       "Farming Guild       float64\n",
       "Port Phasmatys      float64\n",
       "Weiss               float64\n",
       "Catherby            float64\n",
       "Troll Stronghold    float64\n",
       "Hosidius            float64\n",
       "Ardougne            float64\n",
       "Falador             float64\n",
       "dtype: object"
      ]
     },
     "execution_count": 5,
     "metadata": {},
     "output_type": "execute_result"
    }
   ],
   "source": [
    "df_herb = df_herb.astype('float64')\n",
    "df_herb.dtypes"
   ]
  },
  {
   "cell_type": "markdown",
   "metadata": {},
   "source": [
    "Next we can check if all of the minimal values of herbs harvested on each patch are above or equal to 6 which is the base guaranteed number due to using ultracompost."
   ]
  },
  {
   "cell_type": "code",
   "execution_count": 6,
   "metadata": {},
   "outputs": [
    {
     "data": {
      "text/plain": [
       "Farming Guild       7.0\n",
       "Port Phasmatys      6.0\n",
       "Weiss               6.0\n",
       "Catherby            6.0\n",
       "Troll Stronghold    6.0\n",
       "Hosidius            6.0\n",
       "Ardougne            6.0\n",
       "Falador             7.0\n",
       "dtype: float64"
      ]
     },
     "execution_count": 6,
     "metadata": {},
     "output_type": "execute_result"
    }
   ],
   "source": [
    "df_herb.min()"
   ]
  },
  {
   "cell_type": "markdown",
   "metadata": {},
   "source": [
    "We can see that no patch had a minimum value under the specified base number, so we can safely assume that ultracompost was used on all patches. Now we can subtract 6 from each entry to transform the data into the wanted random part, which is the extra number of herbs harvested on each patch. I have chosen to label this as a seperate dataset as we might need to come back to the true collected dataset later."
   ]
  },
  {
   "cell_type": "code",
   "execution_count": 7,
   "metadata": {},
   "outputs": [],
   "source": [
    "df_herbRand = df_herb - 6"
   ]
  },
  {
   "cell_type": "markdown",
   "metadata": {},
   "source": [
    "Which will allow us to get some correct summary statistics on the extra number of herbs harvested at each patch."
   ]
  },
  {
   "cell_type": "code",
   "execution_count": 8,
   "metadata": {},
   "outputs": [
    {
     "data": {
      "text/html": [
       "<div>\n",
       "<style scoped>\n",
       "    .dataframe tbody tr th:only-of-type {\n",
       "        vertical-align: middle;\n",
       "    }\n",
       "\n",
       "    .dataframe tbody tr th {\n",
       "        vertical-align: top;\n",
       "    }\n",
       "\n",
       "    .dataframe thead th {\n",
       "        text-align: right;\n",
       "    }\n",
       "</style>\n",
       "<table border=\"1\" class=\"dataframe\">\n",
       "  <thead>\n",
       "    <tr style=\"text-align: right;\">\n",
       "      <th></th>\n",
       "      <th>Farming Guild</th>\n",
       "      <th>Port Phasmatys</th>\n",
       "      <th>Weiss</th>\n",
       "      <th>Catherby</th>\n",
       "      <th>Troll Stronghold</th>\n",
       "      <th>Hosidius</th>\n",
       "      <th>Ardougne</th>\n",
       "      <th>Falador</th>\n",
       "    </tr>\n",
       "  </thead>\n",
       "  <tbody>\n",
       "    <tr>\n",
       "      <th>count</th>\n",
       "      <td>17.00</td>\n",
       "      <td>17.00</td>\n",
       "      <td>17.00</td>\n",
       "      <td>16.00</td>\n",
       "      <td>17.00</td>\n",
       "      <td>17.00</td>\n",
       "      <td>15.00</td>\n",
       "      <td>16.00</td>\n",
       "    </tr>\n",
       "    <tr>\n",
       "      <th>mean</th>\n",
       "      <td>3.18</td>\n",
       "      <td>1.76</td>\n",
       "      <td>2.53</td>\n",
       "      <td>4.25</td>\n",
       "      <td>2.94</td>\n",
       "      <td>2.82</td>\n",
       "      <td>2.87</td>\n",
       "      <td>2.81</td>\n",
       "    </tr>\n",
       "    <tr>\n",
       "      <th>std</th>\n",
       "      <td>1.78</td>\n",
       "      <td>1.44</td>\n",
       "      <td>1.50</td>\n",
       "      <td>2.44</td>\n",
       "      <td>2.38</td>\n",
       "      <td>2.32</td>\n",
       "      <td>1.92</td>\n",
       "      <td>1.28</td>\n",
       "    </tr>\n",
       "    <tr>\n",
       "      <th>min</th>\n",
       "      <td>1.00</td>\n",
       "      <td>0.00</td>\n",
       "      <td>0.00</td>\n",
       "      <td>0.00</td>\n",
       "      <td>0.00</td>\n",
       "      <td>0.00</td>\n",
       "      <td>0.00</td>\n",
       "      <td>1.00</td>\n",
       "    </tr>\n",
       "    <tr>\n",
       "      <th>25%</th>\n",
       "      <td>2.00</td>\n",
       "      <td>1.00</td>\n",
       "      <td>2.00</td>\n",
       "      <td>2.75</td>\n",
       "      <td>1.00</td>\n",
       "      <td>1.00</td>\n",
       "      <td>2.00</td>\n",
       "      <td>2.00</td>\n",
       "    </tr>\n",
       "    <tr>\n",
       "      <th>50%</th>\n",
       "      <td>3.00</td>\n",
       "      <td>2.00</td>\n",
       "      <td>3.00</td>\n",
       "      <td>4.00</td>\n",
       "      <td>2.00</td>\n",
       "      <td>3.00</td>\n",
       "      <td>2.00</td>\n",
       "      <td>2.50</td>\n",
       "    </tr>\n",
       "    <tr>\n",
       "      <th>75%</th>\n",
       "      <td>3.00</td>\n",
       "      <td>3.00</td>\n",
       "      <td>3.00</td>\n",
       "      <td>6.25</td>\n",
       "      <td>4.00</td>\n",
       "      <td>3.00</td>\n",
       "      <td>3.50</td>\n",
       "      <td>3.00</td>\n",
       "    </tr>\n",
       "    <tr>\n",
       "      <th>max</th>\n",
       "      <td>7.00</td>\n",
       "      <td>4.00</td>\n",
       "      <td>5.00</td>\n",
       "      <td>8.00</td>\n",
       "      <td>8.00</td>\n",
       "      <td>10.00</td>\n",
       "      <td>7.00</td>\n",
       "      <td>6.00</td>\n",
       "    </tr>\n",
       "  </tbody>\n",
       "</table>\n",
       "</div>"
      ],
      "text/plain": [
       "       Farming Guild  Port Phasmatys  Weiss  Catherby  Troll Stronghold  \\\n",
       "count          17.00           17.00  17.00     16.00             17.00   \n",
       "mean            3.18            1.76   2.53      4.25              2.94   \n",
       "std             1.78            1.44   1.50      2.44              2.38   \n",
       "min             1.00            0.00   0.00      0.00              0.00   \n",
       "25%             2.00            1.00   2.00      2.75              1.00   \n",
       "50%             3.00            2.00   3.00      4.00              2.00   \n",
       "75%             3.00            3.00   3.00      6.25              4.00   \n",
       "max             7.00            4.00   5.00      8.00              8.00   \n",
       "\n",
       "       Hosidius  Ardougne  Falador  \n",
       "count     17.00     15.00    16.00  \n",
       "mean       2.82      2.87     2.81  \n",
       "std        2.32      1.92     1.28  \n",
       "min        0.00      0.00     1.00  \n",
       "25%        1.00      2.00     2.00  \n",
       "50%        3.00      2.00     2.50  \n",
       "75%        3.00      3.50     3.00  \n",
       "max       10.00      7.00     6.00  "
      ]
     },
     "execution_count": 8,
     "metadata": {},
     "output_type": "execute_result"
    }
   ],
   "source": [
    "round(df_herbRand.describe(),2)"
   ]
  },
  {
   "cell_type": "markdown",
   "metadata": {},
   "source": [
    "So we can see that on average the most productive herb patches are the Catherby and Farming Guild patches, whereas the worst patch is the Port Phasmatys patch. However, the Catherby, Troll Stronghold and Hosidius patches have a noticably large amount of variance in comparison to the rest of the patches. We can also consider viewing these summary statisics visually as boxplots by herb patch. I've chosen to also overlay a swarmplot of each datapoint on top to show the distribution of each by herb patch."
   ]
  },
  {
   "cell_type": "code",
   "execution_count": 9,
   "metadata": {},
   "outputs": [
    {
     "data": {
      "image/png": "[encoded data removed]",
      "text/plain": [
       "<Figure size 1512x936 with 1 Axes>"
      ]
     },
     "metadata": {},
     "output_type": "display_data"
    }
   ],
   "source": [
    "sns.boxplot(data = df_herbRand, showfliers = False, palette = \"Pastel1\")\n",
    "sns.swarmplot(data = df_herbRand, color = \"black\", size = 6);"
   ]
  },
  {
   "cell_type": "markdown",
   "metadata": {},
   "source": [
    "This shows distinctly that Catherby is the most productive on average and all of the other patches seem roughly similar in distribution. Another great way to visualise the data is to produce a heatmap. This will allow us to visually compare individual realisations of the random variables in question."
   ]
  },
  {
   "cell_type": "code",
   "execution_count": 10,
   "metadata": {},
   "outputs": [
    {
     "data": {
      "image/png": "[encoded data removed]",
      "text/plain": [
       "<Figure size 1512x936 with 2 Axes>"
      ]
     },
     "metadata": {},
     "output_type": "display_data"
    }
   ],
   "source": [
    "sns.heatmap(data = df_herbRand, cmap = \"summer_r\")\n",
    "plt.ylabel(\"Run index\")\n",
    "plt.title(\"Extra herbs harvested\");"
   ]
  },
  {
   "cell_type": "code",
   "execution_count": null,
   "metadata": {},
   "outputs": [],
   "source": []
  }
 ],
 "metadata": {
  "kernelspec": {
   "display_name": "Python 3",
   "language": "python",
   "name": "python3"
  },
  "language_info": {
   "codemirror_mode": {
    "name": "ipython",
    "version": 3
   },
   "file_extension": ".py",
   "mimetype": "text/x-python",
   "name": "python",
   "nbconvert_exporter": "python",
   "pygments_lexer": "ipython3",
   "version": "3.7.3"
  }
 },
 "nbformat": 4,
 "nbformat_minor": 2
}

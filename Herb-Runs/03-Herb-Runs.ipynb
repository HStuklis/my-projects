{
 "cells": [
  {
   "cell_type": "markdown",
   "metadata": {},
   "source": [
    "# Modelling herb runs in Old School Runescape\n",
    "\n",
    "## 03-Data Collection\n",
    "As the only way to interface with Old School Runescapes Farming skill is through playing the game, my method of data collection will be to record data while doing herb runs. I will use Microsoft Excel formatted by the rows denoting the herb patches location and the columns denoting the herb run's number. After a successful harvest at a particular patch I will enter the number of herbs picked into the corresponding entry by herb patch location and herb run number. In order to lock down as many parameters related to the calculation of the first failure to harvest a single herb from a patch, I will plant the same type of herb in each of the patches. The herb I will plant is the highest tier herb available; torstol. As for the other dependencies of the probability in question I will remain at 85 farming over the data collection period, I will always treat each herb patch with ultra-compost and I will always be using magic secateurs while harvesting. This ensures that each herb run will be an independent sample as the other known parameters will remain fixed over each harvest between particular patches. Also as each individual patch will have a different probability of first failure to harvest a herb we cannot combine the data for each herb patch, thus, the need to seperate the data by herb patch location. So we are going to be computing eight instances of this probability, one for each herb patch. Once we have these eight individual probabilities we can then simulate a full herb run by adding realisations of harvesting of each herb patch together."
   ]
  }
 ],
 "metadata": {
  "kernelspec": {
   "display_name": "Python 3",
   "language": "python",
   "name": "python3"
  },
  "language_info": {
   "codemirror_mode": {
    "name": "ipython",
    "version": 3
   },
   "file_extension": ".py",
   "mimetype": "text/x-python",
   "name": "python",
   "nbconvert_exporter": "python",
   "pygments_lexer": "ipython3",
   "version": "3.7.1"
  }
 },
 "nbformat": 4,
 "nbformat_minor": 2
}

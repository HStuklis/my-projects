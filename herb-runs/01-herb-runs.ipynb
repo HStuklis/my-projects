{
 "cells": [
  {
   "cell_type": "markdown",
   "metadata": {},
   "source": [
    "# Modelling herb runs in Old School Runescape\n",
    "\n",
    "## 01-Background\n",
    "Herbs are a type of plant that can be grown in the farming skill in Old School Runescape. Personally I find herb runs (\"runs\" referring to visiting each herb patch around the in-game map once to harvest the crop) perfect for training the farming skill as they are quick and cheap. The availablily of direct teleports to most of the herb patches allows any route to be taken from one patch to another, eliminating the need to determine an optimal route. The purpose of modelling (and perhaps simulating) herb runs to improve my basic Python skills (mainly trying to learn numpy, scipy, pandas and matplotlib) as well as applying methods of statistical inference I've been learning in my courses onto some real data.\n",
    "\n",
    "Plant growth in Old School Runescape works based off a discrete time system referred to as ticks. Each plant type (herbs, fruit trees, hops... etc.) has a set total growth time for the plant to be ready for harvest. These set growth times are partitioned into different ticks as displayed at <https://oldschool.runescape.wiki/w/Farming#Growth_cycles>. Herbs operate on a tick of 20 minutes between each growth stage until a total of 80 minutes has been reached and the herb is ready to harvest. That is if the herb as not contracted a disease in any of the preceeding growth phases. Herb patches can be treated with three different tiers of compost that increase crop yield and decrease disease chance. These composts also increase the minimum possible amount of herbs that can be harvested from a single herb patch. \n",
    "\n",
    "So a simple simulation of a single herb patch will go like so:\n",
    "0. The player plants a herb seed into a herb patch and treats it with compost. The zeroth growth stage of the herb will last until (any-hour):15, (any-hour):35 or (any-hour):55. So potentially an entire growth phase can be skipped if a herb is planted at (any-hour):14... etc.\n",
    "1. The first growth stage is reached at the same times as specified in the previous step. A random number is generated to check whether the herb contracts a disease. If a disease is contracted the growth cycle will stop on the next farming tick where the plant dies. In this intermediate tick where the herb is diseased but not dead the herb can potentially be treated with a plant cure to cure the disease.\n",
    "2. The second growth stage is reached and the previous step is repeated. \n",
    "3. The third and final growth stage is reached. If the herb has remained free of disease for the whole growth period the herb will stay harvestable indefinitely. \n",
    "4. The player who is on a herb run comes to harvest the fully grown herb. The minimum number of herbs is then harvested (based on what compost is used) plus a variable amount extra. \n",
    "So this process can take a minimum of 61 minutes and a maximum of 80 minutes plus the time the player takes to get there and harvest. \n",
    "\n",
    "In-game there are 9 available herb patches. Some of these patches have extra in-game requirements to unlock. For the purposes of my data collection I only have access to 8 out of 9 herb patches.\n",
    "\n",
    "[Next Page](https://github.com/HStuklis/my-projects/blob/master/herb-runs/02-herb-runs.ipynb)"
   ]
  }
 ],
 "metadata": {
  "kernelspec": {
   "display_name": "Python 3",
   "language": "python",
   "name": "python3"
  },
  "language_info": {
   "codemirror_mode": {
    "name": "ipython",
    "version": 3
   },
   "file_extension": ".py",
   "mimetype": "text/x-python",
   "name": "python",
   "nbconvert_exporter": "python",
   "pygments_lexer": "ipython3",
   "version": "3.7.1"
  }
 },
 "nbformat": 4,
 "nbformat_minor": 2
}

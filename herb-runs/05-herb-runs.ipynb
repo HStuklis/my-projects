{
 "cells": [
  {
   "cell_type": "markdown",
   "metadata": {},
   "source": [
    "# Modelling herb runs in Old School Runescape\n",
    "\n",
    "## 05-Conclusion\n",
    "Over the course of this project we were able to generate our best estimates for the probability of harvesting an extra herb on each of the eight herb patches. We found that most of the herb patches had this probability in question to be around a 70% chance with some variablity, whereas the Port Phasmatys patch was closer to a 65% chance and the best patch on average was the Catherby patch with around an 80% chance. From these estimates we were then able to construct the probability functions of each herb patch from our reasoned modelling assupmtions. These were able to give on overview of how likely we are to see a certain amount of herb from a particular patch. Then we convoluted these found probability functions to constuct the overall probability function of seeing a certain amount of herbs on a single herb run.\n",
    "\n",
    "[Previous Page](https://github.com/HStuklis/my-projects/blob/master/herb-runs/04-herb-runs.ipynb)"
   ]
  }
 ],
 "metadata": {
  "kernelspec": {
   "display_name": "Python 3",
   "language": "python",
   "name": "python3"
  },
  "language_info": {
   "codemirror_mode": {
    "name": "ipython",
    "version": 3
   },
   "file_extension": ".py",
   "mimetype": "text/x-python",
   "name": "python",
   "nbconvert_exporter": "python",
   "pygments_lexer": "ipython3",
   "version": "3.7.1"
  }
 },
 "nbformat": 4,
 "nbformat_minor": 2
}

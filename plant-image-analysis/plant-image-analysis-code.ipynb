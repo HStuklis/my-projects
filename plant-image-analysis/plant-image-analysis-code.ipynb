{
 "cells": [
  {
   "cell_type": "markdown",
   "metadata": {},
   "source": [
    "# Using image classification to label plant species\n",
    "Firstly, importing all necessary packages needed and setting some plot style preferences."
   ]
  },
  {
   "cell_type": "code",
   "execution_count": 1,
   "metadata": {},
   "outputs": [],
   "source": [
    "import os\n",
    "import numpy as np\n",
    "import pandas as pd\n",
    "import matplotlib.pyplot as plt\n",
    "%matplotlib inline\n",
    "import seaborn as sns\n",
    "import cv2"
   ]
  },
  {
   "cell_type": "code",
   "execution_count": 2,
   "metadata": {},
   "outputs": [],
   "source": [
    "plt.rcParams['figure.figsize'] = (21.0, 13.0)\n",
    "plt.rcParams['font.size'] = 18.0\n",
    "sns.set_style('darkgrid')\n",
    "sns.set_palette('pastel')"
   ]
  },
  {
   "cell_type": "markdown",
   "metadata": {},
   "source": [
    "As I have access to a GPU on my PC I will quickly check if TensorFlow is able to find it."
   ]
  },
  {
   "cell_type": "code",
   "execution_count": 3,
   "metadata": {},
   "outputs": [
    {
     "name": "stdout",
     "output_type": "stream",
     "text": [
      "Found GPU at: /device:GPU:0\n"
     ]
    }
   ],
   "source": [
    "import tensorflow as tf\n",
    "device_name = tf.test.gpu_device_name()\n",
    "if device_name != '/device:GPU:0':\n",
    "  raise SystemError('GPU device not found')\n",
    "print('Found GPU at: {}'.format(device_name))"
   ]
  },
  {
   "cell_type": "markdown",
   "metadata": {},
   "source": [
    "That all checks out. Now we can pre-process the multi-labeled image data downloaded from the [Kaggle competition page](https://www.kaggle.com/c/plant-seedlings-classification/overview). Firstly, we need to check how many different plant labels we have to begin with, as this will define the set of all classification labels that can possibly be assigned by our model. The image data available under $\\texttt{train.zip}$ has the labels of the plant species as the name of the subdirectory containing the images of that plant species, so we can list all subdirectories of the data to see all classification labels and save as a Python list."
   ]
  },
  {
   "cell_type": "code",
   "execution_count": 4,
   "metadata": {},
   "outputs": [
    {
     "data": {
      "text/plain": [
       "['Black-grass',\n",
       " 'Charlock',\n",
       " 'Cleavers',\n",
       " 'Common Chickweed',\n",
       " 'Common wheat',\n",
       " 'Fat Hen',\n",
       " 'Loose Silky-bent',\n",
       " 'Maize',\n",
       " 'Scentless Mayweed',\n",
       " 'Shepherds Purse',\n",
       " 'Small-flowered Cranesbill',\n",
       " 'Sugar beet']"
      ]
     },
     "execution_count": 4,
     "metadata": {},
     "output_type": "execute_result"
    }
   ],
   "source": [
    "species_list = os.listdir('./train')\n",
    "species_list"
   ]
  },
  {
   "cell_type": "markdown",
   "metadata": {},
   "source": [
    "Then we can consider constructing a coherent data set (most likely a tensor) which contains the plant species label as the first column, the numerical plant species label as the second column and the image data as the third column. This is done for ease of further use of the data in that we won't need to deal with constantly going into each of the above subdirectories of the data. After some research into how this can be done, I found the following to be the most straight forward method to iteratively go through each file in each subdirectory while keeping track of the subdirectory label."
   ]
  },
  {
   "cell_type": "code",
   "execution_count": 5,
   "metadata": {},
   "outputs": [
    {
     "data": {
      "text/html": [
       "<div>\n",
       "<style scoped>\n",
       "    .dataframe tbody tr th:only-of-type {\n",
       "        vertical-align: middle;\n",
       "    }\n",
       "\n",
       "    .dataframe tbody tr th {\n",
       "        vertical-align: top;\n",
       "    }\n",
       "\n",
       "    .dataframe thead th {\n",
       "        text-align: right;\n",
       "    }\n",
       "</style>\n",
       "<table border=\"1\" class=\"dataframe\">\n",
       "  <thead>\n",
       "    <tr style=\"text-align: right;\">\n",
       "      <th></th>\n",
       "      <th>species</th>\n",
       "      <th>numerical_species</th>\n",
       "      <th>file_name</th>\n",
       "    </tr>\n",
       "  </thead>\n",
       "  <tbody>\n",
       "    <tr>\n",
       "      <td>0</td>\n",
       "      <td>Black-grass</td>\n",
       "      <td>0</td>\n",
       "      <td>./train/Black-grass/0050f38b3.png</td>\n",
       "    </tr>\n",
       "    <tr>\n",
       "      <td>1</td>\n",
       "      <td>Black-grass</td>\n",
       "      <td>0</td>\n",
       "      <td>./train/Black-grass/0183fdf68.png</td>\n",
       "    </tr>\n",
       "    <tr>\n",
       "      <td>2</td>\n",
       "      <td>Black-grass</td>\n",
       "      <td>0</td>\n",
       "      <td>./train/Black-grass/0260cffa8.png</td>\n",
       "    </tr>\n",
       "    <tr>\n",
       "      <td>3</td>\n",
       "      <td>Black-grass</td>\n",
       "      <td>0</td>\n",
       "      <td>./train/Black-grass/05eedce4d.png</td>\n",
       "    </tr>\n",
       "    <tr>\n",
       "      <td>4</td>\n",
       "      <td>Black-grass</td>\n",
       "      <td>0</td>\n",
       "      <td>./train/Black-grass/075d004bc.png</td>\n",
       "    </tr>\n",
       "  </tbody>\n",
       "</table>\n",
       "</div>"
      ],
      "text/plain": [
       "       species  numerical_species                          file_name\n",
       "0  Black-grass                  0  ./train/Black-grass/0050f38b3.png\n",
       "1  Black-grass                  0  ./train/Black-grass/0183fdf68.png\n",
       "2  Black-grass                  0  ./train/Black-grass/0260cffa8.png\n",
       "3  Black-grass                  0  ./train/Black-grass/05eedce4d.png\n",
       "4  Black-grass                  0  ./train/Black-grass/075d004bc.png"
      ]
     },
     "execution_count": 5,
     "metadata": {},
     "output_type": "execute_result"
    }
   ],
   "source": [
    "full_data = list()\n",
    "for numerical_species, species in enumerate(species_list):\n",
    "    for file_name in os.listdir(os.path.join('./train', species)):\n",
    "        full_data.append([species, numerical_species, './train/{}/{}'.format(species, file_name)])\n",
    "full_data = pd.DataFrame(full_data, columns=['species', 'numerical_species', 'file_name'])\n",
    "full_data.head()"
   ]
  },
  {
   "cell_type": "markdown",
   "metadata": {},
   "source": [
    "We can observe the total image count."
   ]
  },
  {
   "cell_type": "code",
   "execution_count": 6,
   "metadata": {},
   "outputs": [
    {
     "data": {
      "text/plain": [
       "(4750, 3)"
      ]
     },
     "execution_count": 6,
     "metadata": {},
     "output_type": "execute_result"
    }
   ],
   "source": [
    "full_data.shape"
   ]
  },
  {
   "cell_type": "markdown",
   "metadata": {},
   "source": [
    "As well as the total number of images in each of the given species."
   ]
  },
  {
   "cell_type": "code",
   "execution_count": 7,
   "metadata": {},
   "outputs": [
    {
     "data": {
      "text/plain": [
       "Loose Silky-bent             654\n",
       "Common Chickweed             611\n",
       "Scentless Mayweed            516\n",
       "Small-flowered Cranesbill    496\n",
       "Fat Hen                      475\n",
       "Charlock                     390\n",
       "Sugar beet                   385\n",
       "Cleavers                     287\n",
       "Black-grass                  263\n",
       "Shepherds Purse              231\n",
       "Common wheat                 221\n",
       "Maize                        221\n",
       "Name: species, dtype: int64"
      ]
     },
     "execution_count": 7,
     "metadata": {},
     "output_type": "execute_result"
    }
   ],
   "source": [
    "full_data['species'].value_counts()"
   ]
  },
  {
   "cell_type": "markdown",
   "metadata": {},
   "source": [
    "It is important to note that we have only 221 images of two of the plant species when it comes to defining a training/testing data split. As we will need to ensure that a good amount of each plant species is present in the training data for a cohesive prediction model."
   ]
  },
  {
   "cell_type": "markdown",
   "metadata": {},
   "source": [
    "Next we can consider the quality of the provided images. After a small look through some of the photos I have noticed that the images vary in size quite a bit. To rectify this we can consider setting a base image size and transform all images to this agreed size. Arbitrarily we can select square dimension 300 by 300 pixels and transform using Python's Computer Vision 2 package ($\\texttt{cv2}$)."
   ]
  },
  {
   "cell_type": "code",
   "execution_count": 8,
   "metadata": {},
   "outputs": [],
   "source": [
    "for file in full_data['file_name']:\n",
    "    image = cv2.imread(file)\n",
    "    resized_image = cv2.resize(image, (300, 300), interpolation = cv2.INTER_LINEAR)\n",
    "    resized_file = file[:-4]\n",
    "    resized_file += '-resized.png'\n",
    "    cv2.imwrite(resized_file, resized_image)"
   ]
  },
  {
   "cell_type": "code",
   "execution_count": 9,
   "metadata": {},
   "outputs": [
    {
     "data": {
      "text/plain": [
       "Loose Silky-bent             442\n",
       "Common Chickweed             432\n",
       "Scentless Mayweed            363\n",
       "Small-flowered Cranesbill    350\n",
       "Fat Hen                      336\n",
       "Charlock                     266\n",
       "Sugar beet                   255\n",
       "Cleavers                     211\n",
       "Black-grass                  191\n",
       "Shepherds Purse              169\n",
       "Maize                        159\n",
       "Common wheat                 151\n",
       "Name: species, dtype: int64"
      ]
     },
     "execution_count": 9,
     "metadata": {},
     "output_type": "execute_result"
    }
   ],
   "source": [
    "from sklearn.model_selection import train_test_split\n",
    "training_data, testing_data = train_test_split(full_data, test_size = 0.3, random_state = 6)\n",
    "training_data['species'].value_counts()"
   ]
  }
 ],
 "metadata": {
  "kernelspec": {
   "display_name": "Python 3",
   "language": "python",
   "name": "python3"
  },
  "language_info": {
   "codemirror_mode": {
    "name": "ipython",
    "version": 3
   },
   "file_extension": ".py",
   "mimetype": "text/x-python",
   "name": "python",
   "nbconvert_exporter": "python",
   "pygments_lexer": "ipython3",
   "version": "3.7.4"
  }
 },
 "nbformat": 4,
 "nbformat_minor": 4
}
